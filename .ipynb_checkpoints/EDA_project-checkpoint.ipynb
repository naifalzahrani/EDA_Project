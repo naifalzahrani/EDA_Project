{
 "cells": [
  {
   "cell_type": "markdown",
   "id": "7ae4c319",
   "metadata": {},
   "source": [
    "# EDA Project: Data Analysis for Marketing\n"
   ]
  },
  {
   "cell_type": "markdown",
   "id": "bf6d6f39",
   "metadata": {},
   "source": [
    "## Introduction\n",
    "A fast-food company came to us (Data Solutions company) to help them with opening their first branch in NY metropolitan area.  Their goal is to maximize their sales and reduce their operation cost. In order to achieve this target. We will need to know the best month of the year to open the branch based on the busyness and the amount of people in targeted stations. Additionally, we will try to locate the best location to open the branch.  Furthermore, we will analyze the given data to calculate the busiest months, days of the week and hours. This will help in planning the necessary offers by reducing them during rush days and hours.     "
   ]
  },
  {
   "cell_type": "markdown",
   "id": "689099cf",
   "metadata": {},
   "source": [
    "# 1.Data Gathering and Cleaning:\n",
    "For this project, I will use a whole year of data becuase it is rquiered to caculate the busyiest month of the year. The the rent of the location and the opening of the branch is qoing to take place at the begning of this month. There are some nessary things that we need to take care of for the sake of effciancy and understanding:\n",
    "- Dividing the data into 12 months. This will speed up the process.\n",
    "    - It is requierd to use the latest data.  \n",
    "- The busyness is calculated by the sum of ENTRIES and EXITS. \n"
   ]
  },
  {
   "cell_type": "markdown",
   "id": "eee7fd39",
   "metadata": {},
   "source": [
    "First, we should importall the nessary libraries and keep them on the top. "
   ]
  },
  {
   "cell_type": "code",
   "execution_count": 8,
   "id": "c4b3699f",
   "metadata": {},
   "outputs": [],
   "source": [
    "import pandas as pd"
   ]
  },
  {
   "cell_type": "markdown",
   "id": "266cc83d",
   "metadata": {},
   "source": [
    "Second, any function will be in the following: "
   ]
  },
  {
   "cell_type": "code",
   "execution_count": 15,
   "id": "868650f6",
   "metadata": {},
   "outputs": [],
   "source": [
    "# This function will take the numbers of the week to and pull them from the directory of this project.\n",
    "# The function returns a concatneted DataFram of svereal txt files.  \n",
    "def get_data(week_nums):\n",
    "    loc = \"turnstile_{}.txt\"\n",
    "    dfs = []\n",
    "    for week_num in week_nums:\n",
    "        file_loc = loc.format(week_num)\n",
    "        dfs.append(pd.read_csv(file_loc))\n",
    "    return pd.concat(dfs)\n",
    "\n",
    "# This function fix the columns spacing\n",
    "def fix_col(df):\n",
    "    df.columns = df.columns.str.replace(' ', '')\n",
    "    return df\n"
   ]
  },
  {
   "cell_type": "markdown",
   "id": "7dd7cd21",
   "metadata": {},
   "source": [
    "# 2. The Busiest Station:\n"
   ]
  },
  {
   "cell_type": "markdown",
   "id": "cd31f558",
   "metadata": {},
   "source": [
    "As we have mensioned previously, we assume that the sum of enteries and exites is the busiest. Before we proceed, we need to make that are data is cleaned. "
   ]
  },
  {
   "cell_type": "markdown",
   "id": "1dbc4057",
   "metadata": {},
   "source": [
    "### 2.1 January:"
   ]
  },
  {
   "cell_type": "code",
   "execution_count": 16,
   "id": "d0515d78",
   "metadata": {},
   "outputs": [
    {
     "data": {
      "text/plain": [
       "Index(['C/A', 'UNIT', 'SCP', 'STATION', 'LINENAME', 'DIVISION', 'DATE', 'TIME',\n",
       "       'DESC', 'ENTRIES', 'EXITS'],\n",
       "      dtype='object')"
      ]
     },
     "execution_count": 16,
     "metadata": {},
     "output_type": "execute_result"
    }
   ],
   "source": [
    "# Step 1 : get the data\n",
    "january_weeks= [210102, 210109, 210116, 210123]\n",
    "jan_df = get_data(january_weeks)\n",
    "\n",
    "# Step 2 : fix the columns \n",
    "fix_col(jan_df)\n",
    "\n"
   ]
  },
  {
   "cell_type": "markdown",
   "id": "cc201766",
   "metadata": {},
   "source": [
    "### 2.2 February:"
   ]
  },
  {
   "cell_type": "code",
   "execution_count": 6,
   "id": "d211b832",
   "metadata": {},
   "outputs": [
    {
     "data": {
      "text/html": [
       "<div>\n",
       "<style scoped>\n",
       "    .dataframe tbody tr th:only-of-type {\n",
       "        vertical-align: middle;\n",
       "    }\n",
       "\n",
       "    .dataframe tbody tr th {\n",
       "        vertical-align: top;\n",
       "    }\n",
       "\n",
       "    .dataframe thead th {\n",
       "        text-align: right;\n",
       "    }\n",
       "</style>\n",
       "<table border=\"1\" class=\"dataframe\">\n",
       "  <thead>\n",
       "    <tr style=\"text-align: right;\">\n",
       "      <th></th>\n",
       "      <th>C/A</th>\n",
       "      <th>UNIT</th>\n",
       "      <th>SCP</th>\n",
       "      <th>STATION</th>\n",
       "      <th>LINENAME</th>\n",
       "      <th>DIVISION</th>\n",
       "      <th>DATE</th>\n",
       "      <th>TIME</th>\n",
       "      <th>DESC</th>\n",
       "      <th>ENTRIES</th>\n",
       "      <th>EXITS</th>\n",
       "    </tr>\n",
       "  </thead>\n",
       "  <tbody>\n",
       "    <tr>\n",
       "      <th>0</th>\n",
       "      <td>A002</td>\n",
       "      <td>R051</td>\n",
       "      <td>02-00-00</td>\n",
       "      <td>59 ST</td>\n",
       "      <td>NQR456W</td>\n",
       "      <td>BMT</td>\n",
       "      <td>01/30/2021</td>\n",
       "      <td>03:00:00</td>\n",
       "      <td>REGULAR</td>\n",
       "      <td>7524539</td>\n",
       "      <td>2564693</td>\n",
       "    </tr>\n",
       "    <tr>\n",
       "      <th>1</th>\n",
       "      <td>A002</td>\n",
       "      <td>R051</td>\n",
       "      <td>02-00-00</td>\n",
       "      <td>59 ST</td>\n",
       "      <td>NQR456W</td>\n",
       "      <td>BMT</td>\n",
       "      <td>01/30/2021</td>\n",
       "      <td>07:00:00</td>\n",
       "      <td>REGULAR</td>\n",
       "      <td>7524543</td>\n",
       "      <td>2564703</td>\n",
       "    </tr>\n",
       "  </tbody>\n",
       "</table>\n",
       "</div>"
      ],
      "text/plain": [
       "    C/A  UNIT       SCP STATION LINENAME DIVISION        DATE      TIME  \\\n",
       "0  A002  R051  02-00-00   59 ST  NQR456W      BMT  01/30/2021  03:00:00   \n",
       "1  A002  R051  02-00-00   59 ST  NQR456W      BMT  01/30/2021  07:00:00   \n",
       "\n",
       "      DESC  ENTRIES  \\\n",
       "0  REGULAR  7524539   \n",
       "1  REGULAR  7524543   \n",
       "\n",
       "   EXITS                                                                 \n",
       "0                                            2564693                     \n",
       "1                                            2564703                     "
      ]
     },
     "execution_count": 6,
     "metadata": {},
     "output_type": "execute_result"
    }
   ],
   "source": [
    "february_weeks= [210206, 210213, 210220, 210227]\n",
    "feb_df = get_data(february_weeks)\n",
    "feb_df.head(2)"
   ]
  },
  {
   "cell_type": "markdown",
   "id": "dda7cbb2",
   "metadata": {},
   "source": [
    "### 2.3 March:"
   ]
  },
  {
   "cell_type": "code",
   "execution_count": null,
   "id": "8e8489a3",
   "metadata": {},
   "outputs": [],
   "source": [
    "march_weeks= [210306, 210313, 210320, 210327]\n",
    "mar_df = get_data(march_weeks)\n",
    "mar_df.head(2)"
   ]
  },
  {
   "cell_type": "markdown",
   "id": "8a332497",
   "metadata": {},
   "source": [
    "### 2.4 April:"
   ]
  },
  {
   "cell_type": "code",
   "execution_count": null,
   "id": "8a076151",
   "metadata": {},
   "outputs": [],
   "source": [
    "april_weeks= [210403, 210417, 210424]\n",
    "apr_df = get_data(april_weeks)\n",
    "apr_df.head(2)"
   ]
  },
  {
   "cell_type": "markdown",
   "id": "ee943896",
   "metadata": {},
   "source": [
    "### 2.5 May:"
   ]
  },
  {
   "cell_type": "code",
   "execution_count": null,
   "id": "5a54bfee",
   "metadata": {},
   "outputs": [],
   "source": [
    "may_weeks= [210501, 210508, 210515, 210522, 210529]\n",
    "may_df = get_data(may_weeks)\n",
    "may_df.head(2)"
   ]
  },
  {
   "cell_type": "markdown",
   "id": "577276b0",
   "metadata": {},
   "source": [
    "### 2.6 June:"
   ]
  },
  {
   "cell_type": "code",
   "execution_count": null,
   "id": "32062ce8",
   "metadata": {},
   "outputs": [],
   "source": [
    "june_weeks= [210605, 210612, 210619, 210626]\n",
    "jun_df = get_data(june_weeks)\n",
    "jun_df.head(2)"
   ]
  },
  {
   "cell_type": "markdown",
   "id": "ffd77eff",
   "metadata": {},
   "source": [
    "### 2.7 July:"
   ]
  },
  {
   "cell_type": "code",
   "execution_count": null,
   "id": "665eef5a",
   "metadata": {},
   "outputs": [],
   "source": [
    "july_weeks= [210703, 210710, 210717, 210724, 210731]\n",
    "jul_df = get_data(july_weeks)\n",
    "jul_df.head(2)"
   ]
  },
  {
   "cell_type": "markdown",
   "id": "9be98d57",
   "metadata": {},
   "source": [
    "### 2.8 August:"
   ]
  },
  {
   "cell_type": "code",
   "execution_count": null,
   "id": "38fa36a9",
   "metadata": {},
   "outputs": [],
   "source": [
    "august_weeks= [210807, 210814, 210821, 210828]\n",
    "aug_df = get_data(august_weeks)\n",
    "aug_df.head(2)"
   ]
  },
  {
   "cell_type": "markdown",
   "id": "525f1d27",
   "metadata": {},
   "source": [
    "### 2.9 September:"
   ]
  },
  {
   "cell_type": "code",
   "execution_count": null,
   "id": "c5a21aa9",
   "metadata": {},
   "outputs": [],
   "source": [
    "sep_weeks= [210911, 210918, 210925]\n",
    "sep_df = get_data(sep_weeks)\n",
    "sep_df.head(2)"
   ]
  },
  {
   "cell_type": "markdown",
   "id": "f9a74a19",
   "metadata": {},
   "source": [
    "### 2.10 October:"
   ]
  },
  {
   "cell_type": "code",
   "execution_count": null,
   "id": "c5da507c",
   "metadata": {
    "scrolled": true
   },
   "outputs": [],
   "source": [
    "october_weeks= [201003, 201010, 201017, 201024]\n",
    "oct_df = get_data(october_weeks)\n",
    "oct_df.head(2)"
   ]
  },
  {
   "cell_type": "markdown",
   "id": "5c7937af",
   "metadata": {},
   "source": [
    "### 2.11 November: "
   ]
  },
  {
   "cell_type": "code",
   "execution_count": null,
   "id": "8de8c764",
   "metadata": {},
   "outputs": [],
   "source": [
    "nov_weeks= [201107, 201114, 201121, 201128]\n",
    "nov_df = get_data(nov_weeks)\n",
    "nov_df.head(2)"
   ]
  },
  {
   "cell_type": "markdown",
   "id": "88129d11",
   "metadata": {},
   "source": [
    "### 2.12 December: "
   ]
  },
  {
   "cell_type": "code",
   "execution_count": null,
   "id": "834bf7b7",
   "metadata": {},
   "outputs": [],
   "source": [
    "dec_weeks= [201205, 201212, 201219, 201226]\n",
    "dec_df = get_data(dec_weeks)\n",
    "dec_df.head(2)"
   ]
  },
  {
   "cell_type": "markdown",
   "id": "2e737b34",
   "metadata": {},
   "source": [
    "# 3. The Busiest Month:\n"
   ]
  },
  {
   "cell_type": "markdown",
   "id": "4af22e8d",
   "metadata": {},
   "source": [
    "# 4. The Busiest Hours:"
   ]
  },
  {
   "cell_type": "markdown",
   "id": "b148676d",
   "metadata": {},
   "source": [
    "# 5. Findings and Conclusions:\n"
   ]
  }
 ],
 "metadata": {
  "kernelspec": {
   "display_name": "Python 3",
   "language": "python",
   "name": "python3"
  },
  "language_info": {
   "codemirror_mode": {
    "name": "ipython",
    "version": 3
   },
   "file_extension": ".py",
   "mimetype": "text/x-python",
   "name": "python",
   "nbconvert_exporter": "python",
   "pygments_lexer": "ipython3",
   "version": "3.8.8"
  }
 },
 "nbformat": 4,
 "nbformat_minor": 5
}
